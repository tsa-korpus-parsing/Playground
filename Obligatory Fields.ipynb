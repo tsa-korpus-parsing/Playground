{
 "cells": [
  {
   "cell_type": "code",
   "execution_count": 1,
   "id": "22bac54c",
   "metadata": {},
   "outputs": [],
   "source": [
    "import requests"
   ]
  },
  {
   "cell_type": "markdown",
   "id": "f14abf5b",
   "metadata": {},
   "source": [
    "# Простая выдача"
   ]
  },
  {
   "cell_type": "markdown",
   "id": "69f7f9b2",
   "metadata": {},
   "source": [
    "Fail: Kamas, Udmurt SA, Beserman"
   ]
  },
  {
   "cell_type": "markdown",
   "id": "521fca0b",
   "metadata": {},
   "source": [
    "## Адыгейский - работает"
   ]
  },
  {
   "cell_type": "code",
   "execution_count": 2,
   "id": "767539db",
   "metadata": {
    "scrolled": true
   },
   "outputs": [
    {
     "name": "stdout",
     "output_type": "stream",
     "text": [
      "﻿<div id=\"results_info\" class=\"row_section_fixed\">\n",
      "\t<p>Результат поиска: найдены\n",
      "\t11174664 словоформы,\n",
      "\t1088287 предложений примерно в\n",
      "\t4571\n"
     ]
    }
   ],
   "source": [
    "base = 'http://adyghe.web-corpora.net/adyghe_corpus/' + 'search_sent?'\n",
    "query = f'n_words=1&wf1=&lex1=&gr1=&gloss_index1='\n",
    "print(requests.get(base + query).text[:140])"
   ]
  },
  {
   "cell_type": "markdown",
   "id": "8760e562",
   "metadata": {},
   "source": [
    "## Камасинский"
   ]
  },
  {
   "cell_type": "code",
   "execution_count": 3,
   "id": "2619918f",
   "metadata": {},
   "outputs": [
    {
     "name": "stdout",
     "output_type": "stream",
     "text": [
      "<!DOCTYPE HTML PUBLIC \"-//W3C//DTD HTML 3.2 Final//EN\">\n",
      "<title>500 Internal Server Error</title>\n",
      "<h1>Internal Server Error</h1>\n",
      "<p>The serve\n"
     ]
    }
   ],
   "source": [
    "base = 'https://inel.corpora.uni-hamburg.de/KamasCorpus/' + 'search_sent?'\n",
    "query = f'n_words=1&wf1=&lex1=&gr1=&gloss_index1='\n",
    "print(requests.get(base + query).text[:140])"
   ]
  },
  {
   "cell_type": "code",
   "execution_count": 4,
   "id": "23baa56f",
   "metadata": {},
   "outputs": [
    {
     "name": "stdout",
     "output_type": "stream",
     "text": [
      "<!DOCTYPE HTML PUBLIC \"-//W3C//DTD HTML 3.2 Final//EN\">\n",
      "<title>500 Internal Server Error</title>\n",
      "<h1>Internal Server Error</h1>\n",
      "<p>The serve\n"
     ]
    }
   ],
   "source": [
    "query = f'n_words=1&wf1=&lex1=&gr1=&gloss_index1=&lang1='\n",
    "print(requests.get(base + query).text[:140])"
   ]
  },
  {
   "cell_type": "code",
   "execution_count": 5,
   "id": "28b7721c",
   "metadata": {},
   "outputs": [
    {
     "name": "stdout",
     "output_type": "stream",
     "text": [
      "﻿<div id=\"results_info\" class=\"row_section_fixed\">\n",
      "\t<p>Search result:\n",
      "\t63801 occurrences,\n",
      "\t14060 sentences found in approximately\n",
      "\t158 docum\n"
     ]
    }
   ],
   "source": [
    "query = f'n_words=1&wf1=&lex1=&gr1=&gloss_index1=&lang1=kamas'\n",
    "print(requests.get(base + query).text[:140])"
   ]
  },
  {
   "cell_type": "markdown",
   "id": "2f7df9e2",
   "metadata": {},
   "source": [
    "## Удмуртский"
   ]
  },
  {
   "cell_type": "code",
   "execution_count": 6,
   "id": "16acce92",
   "metadata": {},
   "outputs": [
    {
     "name": "stdout",
     "output_type": "stream",
     "text": [
      "<!doctype html>\n",
      "<html lang=en>\n",
      "<title>500 Internal Server Error</title>\n",
      "<h1>Internal Server Error</h1>\n",
      "<p>The server encountered an internal\n"
     ]
    }
   ],
   "source": [
    "base = 'http://udmurt.web-corpora.net/sound_aligned_udmurt_corpus/' + 'search_sent?'\n",
    "query = f'n_words=1&wf1=&lex1=&gr1=&gloss_index1='\n",
    "print(requests.get(base + query).text[:140])"
   ]
  },
  {
   "cell_type": "code",
   "execution_count": 7,
   "id": "5f4381cf",
   "metadata": {},
   "outputs": [
    {
     "name": "stdout",
     "output_type": "stream",
     "text": [
      "﻿<div id=\"results_info\" class=\"row_section_fixed\">\n",
      "\t<p>Search result:\n",
      "\t12149 occurrences,\n",
      "\t1921 sentences found in approximately\n",
      "\t5 document\n"
     ]
    }
   ],
   "source": [
    "query = 'n_words=1&wf1=&lex1=&gr1=&gloss_index1=&lang1=udmurt'\n",
    "print(requests.get(base + query).text[:140])"
   ]
  },
  {
   "cell_type": "markdown",
   "id": "65aa6838",
   "metadata": {},
   "source": [
    "# Бесермянский"
   ]
  },
  {
   "cell_type": "code",
   "execution_count": 8,
   "id": "93f2a649",
   "metadata": {},
   "outputs": [
    {
     "name": "stdout",
     "output_type": "stream",
     "text": [
      "<!doctype html>\n",
      "<html lang=en>\n",
      "<title>500 Internal Server Error</title>\n",
      "<h1>Internal Server Error</h1>\n",
      "<p>The server encountered an internal\n"
     ]
    }
   ],
   "source": [
    "base = 'http://multimedia-corpus.beserman.ru/' + 'search_sent?'\n",
    "query = f'n_words=1&wf1=&lex1=&gr1=&gloss_index1='\n",
    "print(requests.get(base + query).text[:140])"
   ]
  },
  {
   "cell_type": "code",
   "execution_count": 9,
   "id": "23a8a489",
   "metadata": {},
   "outputs": [
    {
     "name": "stdout",
     "output_type": "stream",
     "text": [
      "﻿<div id=\"results_info\" class=\"row_section_fixed\">\n",
      "\t<p>Search result:\n",
      "\t235198 occurrences,\n",
      "\t51271 sentences found in approximately\n",
      "\t222 docu\n"
     ]
    }
   ],
   "source": [
    "base = 'http://multimedia-corpus.beserman.ru/' + 'search_sent?'\n",
    "query = f'n_words=1&wf1=&lex1=&gr1=&gloss_index1=&lang1=beserman'\n",
    "print(requests.get(base + query).text[:140])"
   ]
  },
  {
   "cell_type": "markdown",
   "id": "d2e319a6",
   "metadata": {},
   "source": [
    "# Поиск по глоссам"
   ]
  },
  {
   "cell_type": "markdown",
   "id": "19e636c7",
   "metadata": {},
   "source": [
    "## Без языка"
   ]
  },
  {
   "cell_type": "code",
   "execution_count": 10,
   "id": "737c080a",
   "metadata": {},
   "outputs": [],
   "source": [
    "import re"
   ]
  },
  {
   "cell_type": "code",
   "execution_count": 11,
   "id": "8cfd6075",
   "metadata": {},
   "outputs": [],
   "source": [
    "CORPORA = [\n",
    "    # ['evk', 'http://gisly.net/corpus/', 'Evenki'],\n",
    "    ['ady', 'http://adyghe.web-corpora.net/adyghe_corpus/', 'Adyghe'],\n",
    "    ['neo', 'http://neo-aramaic.web-corpora.net/urmi_corpus/', 'Neo-Aramaic'],\n",
    "    ['tur', 'http://neo-aramaic.web-corpora.net/turoyo_corpus/', 'Turoyo'],\n",
    "    ['ckt', 'https://chuklang.ru/', 'Chukchi'],\n",
    "    ['alb', 'http://albanian.web-corpora.net/albanian_corpus/', 'Albanian'],\n",
    "    ['dgr', 'https://linghub.ru/digor_ossetic_flex_corpus/', 'Digor Ossetic'],\n",
    "    ['iro', 'https://linghub.ru/iron_ossetic_flex_corpus/', 'Iron Ossetic'],\n",
    "    ['tjk', 'https://tajik-corpus.org/tajik_corpus/', 'Tajik'],\n",
    "    ['dlg', 'https://inel.corpora.uni-hamburg.de/DolganCorpus/', 'Dolgan'],\n",
    "    ['erz', 'http://erzya.web-corpora.net/erzya_corpus/', 'Erzya Main'],\n",
    "    ['erm', 'http://erzya.web-corpora.net/erzya_social_media/', 'Erzya Social Media'],\n",
    "    ['mmr', 'http://meadow-mari.web-corpora.net/meadow-mari_corpus/', 'Meadow Mari Main'],\n",
    "    ['mmm', 'http://meadow-mari.web-corpora.net/meadow-mari_social_media/', 'Meadow Mari Social Media'],\n",
    "    ['mok', 'http://moksha.web-corpora.net/moksha_corpus/', 'Moksha'],\n",
    "    ['mom', 'http://moksha.web-corpora.net/moksha_social_media/', 'Moksha Social Media'],\n",
    "    ['kms', 'https://inel.corpora.uni-hamburg.de/KamasCorpus/', 'Kamas'],\n",
    "    ['kmz', 'http://komi-zyrian.web-corpora.net/komi-zyrian_corpus/', 'Komi-Zyrian Main'],\n",
    "    ['kmm', 'http://komi-zyrian.web-corpora.net/komi-zyrian_social_media/', 'Komi-Zyrian Social Media'],\n",
    "    ['slk', 'https://inel.corpora.uni-hamburg.de/SelkupCorpus/', 'Selkup'],\n",
    "    ['udm', 'http://udmurt.web-corpora.net/udmurt_corpus/', 'Udmurt Main'],\n",
    "    ['umm', 'http://udmurt.web-corpora.net/udmurt_social_media/', 'Umdumrt Social Media'],\n",
    "    ['uds', 'http://udmurt.web-corpora.net/sound_aligned_udmurt_corpus/', 'Udmurt Sound Aligned'],\n",
    "    ['bsm', 'http://multimedia-corpus.beserman.ru/', 'Beserman'],\n",
    "    ['brt', 'http://buryat.web-corpora.net/buryat_corpus/', 'Buryat'],\n",
    "    ['wct', 'https://linghub.ru/wc_corpus/', 'WC corpus']\n",
    "\n",
    "]"
   ]
  },
  {
   "cell_type": "code",
   "execution_count": 12,
   "id": "4064e69b",
   "metadata": {},
   "outputs": [],
   "source": [
    "query = 'n_words=1&wf1=&lex1=&gr1=stem&gloss_index1='\n",
    "occurrences = re.compile(r'\\d+ (occurrences|словоформ(ы)?)')"
   ]
  },
  {
   "cell_type": "code",
   "execution_count": 13,
   "id": "f6f1a9d7",
   "metadata": {},
   "outputs": [],
   "source": [
    "fail = {'err': [], 'empty': []}\n",
    "for row in CORPORA:\n",
    "    get = requests.get(row[1] + 'search_sent?' + query).text\n",
    "    if '500 Internal Server Error' in get:\n",
    "        fail['err'].append(row[0])\n",
    "        continue\n",
    "    if occurrences.search(get).group().split()[0] == '0':\n",
    "        fail['empty'].append(row[0])\n",
    "        continue    "
   ]
  },
  {
   "cell_type": "code",
   "execution_count": 14,
   "id": "555cd921",
   "metadata": {},
   "outputs": [
    {
     "data": {
      "text/plain": [
       "{'err': ['kms', 'uds', 'bsm'],\n",
       " 'empty': ['ady',\n",
       "  'neo',\n",
       "  'tur',\n",
       "  'alb',\n",
       "  'dgr',\n",
       "  'iro',\n",
       "  'tjk',\n",
       "  'dlg',\n",
       "  'erz',\n",
       "  'erm',\n",
       "  'mmr',\n",
       "  'mmm',\n",
       "  'mok',\n",
       "  'mom',\n",
       "  'kmz',\n",
       "  'kmm',\n",
       "  'slk',\n",
       "  'udm',\n",
       "  'umm',\n",
       "  'brt',\n",
       "  'wct']}"
      ]
     },
     "execution_count": 14,
     "metadata": {},
     "output_type": "execute_result"
    }
   ],
   "source": [
    "fail"
   ]
  },
  {
   "cell_type": "code",
   "execution_count": 15,
   "id": "144ca8c6",
   "metadata": {},
   "outputs": [
    {
     "data": {
      "text/plain": [
       "{'ckt'}"
      ]
     },
     "execution_count": 15,
     "metadata": {},
     "output_type": "execute_result"
    }
   ],
   "source": [
    "set([c[0] for c in CORPORA]).difference(set(fail['err']).union(set(fail['empty'])))"
   ]
  },
  {
   "cell_type": "code",
   "execution_count": 16,
   "id": "acaa15b3",
   "metadata": {},
   "outputs": [],
   "source": [
    "get = requests.get('https://chuklang.ru/' + 'search_sent?' + query).text"
   ]
  },
  {
   "cell_type": "code",
   "execution_count": 17,
   "id": "9140f8ea",
   "metadata": {},
   "outputs": [
    {
     "name": "stdout",
     "output_type": "stream",
     "text": [
      "﻿\n",
      "\n",
      "<p>Результат поиска: найдено\n",
      "\n",
      "3018 словоформ,\n",
      "\n",
      "3018 предложений примерно в 65 документах.</p>\n",
      "\n",
      "<d\n"
     ]
    }
   ],
   "source": [
    "print(get[:100])"
   ]
  },
  {
   "cell_type": "markdown",
   "id": "532d35d0",
   "metadata": {},
   "source": [
    "## С языком"
   ]
  },
  {
   "cell_type": "code",
   "execution_count": 18,
   "id": "a92f6189",
   "metadata": {},
   "outputs": [],
   "source": [
    "fail_2 = {'err': [], 'empty': []}\n",
    "success = {}\n",
    "for row in CORPORA:\n",
    "    query_1 = 'n_words=1&wf1=&lex1=&gr1=V&gloss_index1=&lang1=' + row[2].lower().split()[0]\n",
    "    get_1 = requests.get(row[1] + 'search_sent?' + query_1).text\n",
    "    \n",
    "    query_2 = 'n_words=1&wf1=&lex1=&gr1=v&gloss_index1=&lang1=' + row[2].lower().split()[0]\n",
    "    get_2 = requests.get(row[1] + 'search_sent?' + query_2).text\n",
    "    \n",
    "    get = get_1\n",
    "    if '500 Internal Server Error' in get_1: \n",
    "        if '500 Internal Server Error' in get_2:\n",
    "            fail_2['err'].append(row[0])\n",
    "            continue\n",
    "        get = get_2\n",
    "    \n",
    "    if occurrences.search(get_1).group().split()[0] == '0':\n",
    "        if occurrences.search(get_2).group().split()[0] == '0':\n",
    "            fail_2['empty'].append(row[0])\n",
    "            continue \n",
    "        get = get_2\n",
    "    success[row[0]] = get[:150]"
   ]
  },
  {
   "cell_type": "code",
   "execution_count": 19,
   "id": "28d66a96",
   "metadata": {},
   "outputs": [
    {
     "data": {
      "text/plain": [
       "{'err': [], 'empty': ['neo', 'dgr', 'iro', 'mmr', 'mmm', 'umm', 'wct']}"
      ]
     },
     "execution_count": 19,
     "metadata": {},
     "output_type": "execute_result"
    }
   ],
   "source": [
    "fail_2"
   ]
  },
  {
   "cell_type": "code",
   "execution_count": 20,
   "id": "edd25fa7",
   "metadata": {},
   "outputs": [
    {
     "data": {
      "text/plain": [
       "{'ady': '\\ufeff<div id=\"results_info\" class=\"row_section_fixed\">\\n\\t<p>Результат поиска: найдено\\n\\t3662126 словоформ,\\n\\t945528 предложений примерно в\\n\\t4549 документах.<',\n",
       " 'tur': '\\ufeff<div id=\"results_info\" class=\"row_section_fixed\">\\n\\t<p>Search result:\\n\\t147830 occurrences,\\n\\t39720 sentences found in approximately\\n\\t239 documents.</p>',\n",
       " 'ckt': '\\ufeff\\n\\n<p>Результат поиска: найдено\\n\\n490 словоформ,\\n\\n1006 предложений примерно в 65 документах.</p>\\n\\n<div class=\"sent_results\">\\n\\n\\t\\n\\t<div class=\"context \" ',\n",
       " 'alb': '\\ufeff<div id=\"results_info\" class=\"row_section_fixed\">\\n\\t<p>Search result:\\n\\t7116184 occurrences,\\n\\t1402816 sentences found in approximately\\n\\t42471 documents',\n",
       " 'tjk': '\\ufeff<div id=\"results_info\" class=\"row_section_fixed\">\\n\\t<p>Search result:\\n\\t7489358 occurrences,\\n\\t2299395 sentences found in approximately\\n\\t78314 documents',\n",
       " 'dlg': '\\ufeff<div id=\"results_info\" class=\"row_section_fixed\">\\n\\t<p>Search result:\\n\\t23240 occurrences,\\n\\t11430 sentences found in approximately\\n\\t136 documents.</p>\\n',\n",
       " 'erz': '\\ufeff<div id=\"results_info\" class=\"row_section_fixed\">\\n\\t<p>Search result:\\n\\t723116 occurrences,\\n\\t280479 sentences found in approximately\\n\\t1564 documents.</',\n",
       " 'erm': '\\ufeff<div id=\"results_info\" class=\"row_section_fixed\">\\n\\t<p>Search result:\\n\\t218247 occurrences,\\n\\t106272 sentences found in approximately\\n\\t955 documents.</p',\n",
       " 'mok': '\\ufeff<div id=\"results_info\" class=\"row_section_fixed\">\\n\\t<p>Search result:\\n\\t366606 occurrences,\\n\\t144929 sentences found in approximately\\n\\t710 documents.</p',\n",
       " 'mom': '\\ufeff<div id=\"results_info\" class=\"row_section_fixed\">\\n\\t<p>Search result:\\n\\t3243 occurrences,\\n\\t2085 sentences found in approximately\\n\\t32 documents.</p>\\n\\n\\t\\n',\n",
       " 'kms': '\\ufeff<div id=\"results_info\" class=\"row_section_fixed\">\\n\\t<p>Search result:\\n\\t14538 occurrences,\\n\\t9973 sentences found in approximately\\n\\t158 documents.</p>\\n\\n',\n",
       " 'kmz': '\\ufeff<div id=\"results_info\" class=\"row_section_fixed\">\\n\\t<p>Search result:\\n\\t478139 occurrences,\\n\\t153642 sentences found in approximately\\n\\t2821 documents.</',\n",
       " 'kmm': '\\ufeff<div id=\"results_info\" class=\"row_section_fixed\">\\n\\t<p>Search result:\\n\\t362279 occurrences,\\n\\t175916 sentences found in approximately\\n\\t427 documents.</p',\n",
       " 'slk': '\\ufeff<div id=\"results_info\" class=\"row_section_fixed\">\\n\\t<p>Search result:\\n\\t21848 occurrences,\\n\\t13565 sentences found in approximately\\n\\t351 documents.</p>\\n',\n",
       " 'udm': '\\ufeff<div id=\"results_info\" class=\"row_section_fixed\">\\n\\t<p>Search result:\\n\\t2844578 occurrences,\\n\\t943202 sentences found in approximately\\n\\t8501 documents.<',\n",
       " 'uds': '\\ufeff<div id=\"results_info\" class=\"row_section_fixed\">\\n\\t<p>Search result:\\n\\t3117 occurrences,\\n\\t1419 sentences found in approximately\\n\\t5 documents.</p>\\n\\n\\t\\n\\t',\n",
       " 'bsm': '\\ufeff<div id=\"results_info\" class=\"row_section_fixed\">\\n\\t<p>Search result:\\n\\t45030 occurrences,\\n\\t25948 sentences found in approximately\\n\\t222 documents.</p>\\n',\n",
       " 'brt': '\\ufeff<div id=\"results_info\" class=\"row_section_fixed\">\\n\\t<p>Результат поиска: найдена\\n\\t949941 словоформа,\\n\\t266880 предложений примерно в\\n\\t1122 документах.<'}"
      ]
     },
     "execution_count": 20,
     "metadata": {},
     "output_type": "execute_result"
    }
   ],
   "source": [
    "success"
   ]
  },
  {
   "cell_type": "code",
   "execution_count": 21,
   "id": "390ff2c5",
   "metadata": {},
   "outputs": [],
   "source": [
    "corr = {'neo': 'urmi', 'dgr': 'ossetic_digor', \n",
    "        'iro': 'ossetic_iron', 'mmr': 'meadow_mari', \n",
    "        'mmm': 'meadow_mari', 'umm': 'udmurt', \n",
    "        'wct': 'russian'}"
   ]
  },
  {
   "cell_type": "markdown",
   "id": "304729b2",
   "metadata": {},
   "source": [
    "<b> WC! нет разметки для all <b>"
   ]
  },
  {
   "cell_type": "code",
   "execution_count": 22,
   "id": "dd71958f",
   "metadata": {},
   "outputs": [],
   "source": [
    "fail_3 = {'err': [], 'empty': []}\n",
    "success = {}\n",
    "for row in CORPORA:\n",
    "    if row[0] not in corr:\n",
    "        continue\n",
    "    query_1 = 'n_words=1&wf1=&lex1=&gr1=V&gloss_index1=&lang1=' + corr[row[0]]\n",
    "    get_1 = requests.get(row[1] + 'search_sent?' + query_1).text\n",
    "    \n",
    "    query_2 = 'n_words=1&wf1=&lex1=&gr1=v&gloss_index1=&lang1=' + corr[row[0]]\n",
    "    get_2 = requests.get(row[1] + 'search_sent?' + query_2).text\n",
    "    \n",
    "    get = get_1\n",
    "    if '500 Internal Server Error' in get_1: \n",
    "        if '500 Internal Server Error' in get_2:\n",
    "            fail_3['err'].append(row[0])\n",
    "            continue\n",
    "        get = get_2\n",
    "    \n",
    "    if occurrences.search(get_1).group().split()[0] == '0':\n",
    "        if occurrences.search(get_2).group().split()[0] == '0':\n",
    "            fail_3['empty'].append(row[0])\n",
    "            continue \n",
    "        get = get_2\n",
    "    success[row[0]] = get[:150]"
   ]
  },
  {
   "cell_type": "code",
   "execution_count": 23,
   "id": "43b5ab9b",
   "metadata": {},
   "outputs": [
    {
     "data": {
      "text/plain": [
       "{'err': [], 'empty': []}"
      ]
     },
     "execution_count": 23,
     "metadata": {},
     "output_type": "execute_result"
    }
   ],
   "source": [
    "fail_3"
   ]
  },
  {
   "cell_type": "code",
   "execution_count": 24,
   "id": "2a2c15f7",
   "metadata": {},
   "outputs": [
    {
     "data": {
      "text/plain": [
       "{'neo': '\\ufeff<div id=\"results_info\" class=\"row_section_fixed\">\\n\\t<p>Search result:\\n\\t77835 occurrences,\\n\\t34494 sentences found in approximately\\n\\t44 documents.</p>\\n\\n',\n",
       " 'dgr': '\\ufeff<div id=\"results_info\" class=\"row_section_fixed\">\\n\\t<p>Search result:\\n\\t1157 occurrences,\\n\\t848 sentences found in approximately\\n\\t48 documents.</p>\\n\\n\\t\\n\\t',\n",
       " 'iro': '\\ufeff<div id=\"results_info\" class=\"row_section_fixed\">\\n\\t<p>Search result:\\n\\t5218 occurrences,\\n\\t3006 sentences found in approximately\\n\\t54 documents.</p>\\n\\n\\t\\n',\n",
       " 'mmr': '\\ufeff<div id=\"results_info\" class=\"row_section_fixed\">\\n\\t<p>Search result:\\n\\t1661133 occurrences,\\n\\t517962 sentences found in approximately\\n\\t3724 documents.<',\n",
       " 'mmm': '\\ufeff<div id=\"results_info\" class=\"row_section_fixed\">\\n\\t<p>Search result:\\n\\t1092312 occurrences,\\n\\t362414 sentences found in approximately\\n\\t763 documents.</',\n",
       " 'umm': '\\ufeff<div id=\"results_info\" class=\"row_section_fixed\">\\n\\t<p>Search result:\\n\\t736697 occurrences,\\n\\t346935 sentences found in approximately\\n\\t1382 documents.</',\n",
       " 'wct': '\\ufeff<div id=\"results_info\" class=\"row_section_fixed\">\\n\\t<p>Search result:\\n\\t161 occurrences,\\n\\t134 sentences found in approximately\\n\\t51 documents.</p>\\n\\n\\t\\n\\t\\n'}"
      ]
     },
     "execution_count": 24,
     "metadata": {},
     "output_type": "execute_result"
    }
   ],
   "source": [
    "success"
   ]
  },
  {
   "cell_type": "code",
   "execution_count": null,
   "id": "ff3ab28d",
   "metadata": {},
   "outputs": [],
   "source": []
  }
 ],
 "metadata": {
  "kernelspec": {
   "display_name": "Python 3 (ipykernel)",
   "language": "python",
   "name": "python3"
  },
  "language_info": {
   "codemirror_mode": {
    "name": "ipython",
    "version": 3
   },
   "file_extension": ".py",
   "mimetype": "text/x-python",
   "name": "python",
   "nbconvert_exporter": "python",
   "pygments_lexer": "ipython3",
   "version": "3.9.12"
  }
 },
 "nbformat": 4,
 "nbformat_minor": 5
}
