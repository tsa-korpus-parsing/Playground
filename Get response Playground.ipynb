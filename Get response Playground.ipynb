{
 "cells": [
  {
   "cell_type": "code",
   "execution_count": 1,
   "id": "8abb3389",
   "metadata": {},
   "outputs": [],
   "source": [
    "import requests\n",
    "from flask import request"
   ]
  },
  {
   "cell_type": "markdown",
   "id": "c0e66134",
   "metadata": {},
   "source": [
    "# Структура запроса"
   ]
  },
  {
   "cell_type": "markdown",
   "id": "f37b4203",
   "metadata": {},
   "source": [
    "```py\n",
    "https://adyghe.web-corpora.net/adyghe_corpus/ #base\n",
    "\n",
    "search_sent?\n",
    "\n",
    "#query\n",
    "n_words=1\n",
    "&\n",
    "random_seed=\n",
    "&\n",
    "wf1= #wordform\n",
    "&\n",
    "lex1= #lexeme\n",
    "&\n",
    "gr1= #grammar (?)\n",
    "&\n",
    "w_id1=\n",
    "&\n",
    "l_id1=\n",
    "&\n",
    "languages=ady\n",
    "&\n",
    "page_size=10\n",
    "&\n",
    "sort=random\n",
    "&\n",
    "distance_strict=on\n",
    "```"
   ]
  },
  {
   "cell_type": "code",
   "execution_count": 2,
   "id": "327a890c",
   "metadata": {},
   "outputs": [],
   "source": [
    "base = 'http://adyghe.web-corpora.net/adyghe_corpus/' + 'search_sent?'"
   ]
  },
  {
   "cell_type": "markdown",
   "id": "cd1681a3",
   "metadata": {},
   "source": [
    "## Поиск по словоформе"
   ]
  },
  {
   "cell_type": "code",
   "execution_count": 3,
   "id": "729eeee5",
   "metadata": {},
   "outputs": [
    {
     "name": "stdout",
     "output_type": "stream",
     "text": [
      "﻿<div id=\"results_info\" class=\"row_section_fixed\">\n",
      "\t<p>Результат поиска: найдена\n",
      "\t1 словоформа,\n",
      "\t1 предложение примерно в\n",
      "\t1 документе.</p>\n",
      "\n"
     ]
    }
   ],
   "source": [
    "wordform = 'ытыгъущтыгъ'\n",
    "lexeme = ''\n",
    "grammar = ''\n",
    "query = f'n_words=1&random_seed=&wf1={wordform}&lex1={lexeme}&gr1={grammar}&w_id1=&l_id1=&languages=ady&page_size=10&sort=random&distance_strict=on'\n",
    "print(requests.get(base + query).text[:140])"
   ]
  },
  {
   "cell_type": "markdown",
   "id": "efd6f766",
   "metadata": {},
   "source": [
    "## Поиск по лемме"
   ]
  },
  {
   "cell_type": "code",
   "execution_count": 4,
   "id": "f4065602",
   "metadata": {},
   "outputs": [
    {
     "name": "stdout",
     "output_type": "stream",
     "text": [
      "﻿<div id=\"results_info\" class=\"row_section_fixed\">\n",
      "\t<p>Результат поиска: найдено\n",
      "\t786 словоформ,\n",
      "\t768 предложений примерно в\n",
      "\t351 документе.\n"
     ]
    }
   ],
   "source": [
    "wordform = ''\n",
    "lexeme = 'тыгъун'\n",
    "grammar = ''\n",
    "query = f'n_words=1&random_seed=&wf1={wordform}&lex1={lexeme}&gr1={grammar}&w_id1=&l_id1=&languages=ady&page_size=10&sort=random&distance_strict=on'\n",
    "print(requests.get(base + query).text[:140])"
   ]
  },
  {
   "cell_type": "markdown",
   "id": "f4776831",
   "metadata": {},
   "source": [
    "## Поиск по грамматическим показателям"
   ]
  },
  {
   "cell_type": "markdown",
   "id": "0e59911e",
   "metadata": {},
   "source": [
    "### Чистый грам. тэг"
   ]
  },
  {
   "cell_type": "markdown",
   "id": "c5b23aa3",
   "metadata": {},
   "source": [
    "Не работает"
   ]
  },
  {
   "cell_type": "code",
   "execution_count": 5,
   "id": "45ba7903",
   "metadata": {},
   "outputs": [
    {
     "name": "stdout",
     "output_type": "stream",
     "text": [
      "﻿<div id=\"results_info\" class=\"row_section_fixed\">\n",
      "\t<p>Результат поиска: найдено\n",
      "\t0 словоформ,\n",
      "\t0 предложений примерно в\n",
      "\t0 документах.</p>\n",
      "\n"
     ]
    }
   ],
   "source": [
    "wordform = ''\n",
    "lexeme = ''\n",
    "grammar = 'sg'\n",
    "query = f'n_words=1&random_seed=&wf1={wordform}&lex1={lexeme}&gr1={grammar}&w_id1=&l_id1=&languages=ady&page_size=10&sort=random&distance_strict=on'\n",
    "print(requests.get(base + query).text[:140])"
   ]
  },
  {
   "cell_type": "markdown",
   "id": "396ad1f8",
   "metadata": {},
   "source": [
    "### Верхний регистр"
   ]
  },
  {
   "cell_type": "markdown",
   "id": "a9011b81",
   "metadata": {},
   "source": [
    "Не работает"
   ]
  },
  {
   "cell_type": "code",
   "execution_count": 6,
   "id": "2c4c531d",
   "metadata": {},
   "outputs": [
    {
     "name": "stdout",
     "output_type": "stream",
     "text": [
      "﻿<div id=\"results_info\" class=\"row_section_fixed\">\n",
      "\t<p>Результат поиска: найдено\n",
      "\t0 словоформ,\n",
      "\t0 предложений примерно в\n",
      "\t0 документах.</p>\n",
      "\n"
     ]
    }
   ],
   "source": [
    "wordform = ''\n",
    "lexeme = ''\n",
    "grammar = 'SG'\n",
    "query = f'n_words=1&random_seed=&wf1={wordform}&lex1={lexeme}&gr1={grammar}&w_id1=&l_id1=&languages=ady&page_size=10&sort=random&distance_strict=on'\n",
    "print(requests.get(base + query).text[:140])"
   ]
  },
  {
   "cell_type": "markdown",
   "id": "17e1ebdd",
   "metadata": {},
   "source": [
    "### Строчка глосс"
   ]
  },
  {
   "cell_type": "markdown",
   "id": "4598f1ae",
   "metadata": {},
   "source": [
    "Не работает"
   ]
  },
  {
   "cell_type": "code",
   "execution_count": 7,
   "id": "082816de",
   "metadata": {},
   "outputs": [
    {
     "name": "stdout",
     "output_type": "stream",
     "text": [
      "﻿<div id=\"results_info\" class=\"row_section_fixed\">\n",
      "\t<p>Результат поиска: найдено\n",
      "\t0 словоформ,\n",
      "\t0 предложений примерно в\n",
      "\t0 документах.</p>\n",
      "\n"
     ]
    }
   ],
   "source": [
    "wordform = ''\n",
    "lexeme = ''\n",
    "grammar = 'OBL'\n",
    "query = f'n_words=1&random_seed=&wf1={wordform}&lex1={lexeme}&gr1={grammar}&w_id1=&l_id1=&languages=ady&page_size=10&sort=random&distance_strict=on'\n",
    "print(requests.get(base + query).text[:140])"
   ]
  },
  {
   "cell_type": "code",
   "execution_count": 8,
   "id": "d68a8ae6",
   "metadata": {},
   "outputs": [
    {
     "name": "stdout",
     "output_type": "stream",
     "text": [
      "﻿<div id=\"results_info\" class=\"row_section_fixed\">\n",
      "\t<p>Результат поиска: найдено\n",
      "\t0 словоформ,\n",
      "\t0 предложений примерно в\n",
      "\t0 документах.</p>\n",
      "\n"
     ]
    }
   ],
   "source": [
    "wordform = ''\n",
    "lexeme = ''\n",
    "grammar = 'STEM-ABS'\n",
    "query = f'n_words=1&random_seed=&wf1={wordform}&lex1={lexeme}&gr1={grammar}&w_id1=&l_id1=&languages=ady&page_size=10&sort=random&distance_strict=on'\n",
    "print(requests.get(base + query).text[:140])"
   ]
  },
  {
   "cell_type": "code",
   "execution_count": 9,
   "id": "20f06280",
   "metadata": {},
   "outputs": [
    {
     "name": "stdout",
     "output_type": "stream",
     "text": [
      "﻿<div id=\"results_info\" class=\"row_section_fixed\">\n",
      "\t<p>Результат поиска: найдено\n",
      "\t0 словоформ,\n",
      "\t0 предложений примерно в\n",
      "\t0 документах.</p>\n",
      "\n"
     ]
    }
   ],
   "source": [
    "wordform = ''\n",
    "lexeme = ''\n",
    "grammar = 'sg, abs'\n",
    "query = f'n_words=1&random_seed=&wf1={wordform}&lex1={lexeme}&gr1={grammar}&w_id1=&l_id1=&languages=ady&page_size=10&sort=random&distance_strict=on'\n",
    "print(requests.get(base + query).text[:140])"
   ]
  },
  {
   "cell_type": "markdown",
   "id": "d5ce219b",
   "metadata": {},
   "source": [
    "html код для информации по отдельному слову в адыгейском корпусе:"
   ]
  },
  {
   "cell_type": "markdown",
   "id": "c97b9f8e",
   "metadata": {},
   "source": [
    "```html\n",
    "<div class=&quot;popup_word&quot;>\n",
    "\n",
    "<span class=&quot;popup_wf&quot;>системэм</span>\n",
    "\n",
    "<div class=&quot;popup_ana&quot;><span class=&quot;popup_lex&quot;>системэ</span>\n",
    "\n",
    "<span class=&quot;popup_pos&quot;>N\n",
    "\n",
    "&amp;nbsp;﻿<span class=&quot;popup_field&quot;><span class=&quot;popup_value&quot;>rus</span></span></span>\n",
    "\n",
    "<br><div class=&quot;popup_gloss&quot;><span class=&quot;popup_value&quot;>системэ-м</span></div>\n",
    "\n",
    "<div class=&quot;popup_gloss&quot;><span class=&quot;popup_key&quot;></span><span class=&quot;popup_value&quot;>STEM-OBL</span></div>\n",
    "\n",
    "<div class=&quot;popup_gramm&quot;>﻿<span class=&quot;popup_field&quot;><span class=&quot;popup_key&quot;>gr: </span><span class=&quot;popup_value&quot;>sg, obl</span></span></div>\n",
    "\n",
    "<div class=&quot;popup_field popup_field_ana_other popup_field_trans_ru&quot;><span class=&quot;popup_key&quot;>trans_ru: </span><span class=&quot;popup_value&quot;>система</span></div></div>\n",
    "\n",
    "</div>\" style=\"display: inline-block;\">системэм</span>\n",
    "```"
   ]
  },
  {
   "cell_type": "markdown",
   "id": "5b00af6b",
   "metadata": {},
   "source": [
    "# Другой корпус"
   ]
  },
  {
   "cell_type": "markdown",
   "id": "798bda60",
   "metadata": {},
   "source": [
    "## Поиск по словоформе"
   ]
  },
  {
   "cell_type": "code",
   "execution_count": 10,
   "id": "8c60e49d",
   "metadata": {},
   "outputs": [],
   "source": [
    "base = 'http://neo-aramaic.web-corpora.net/urmi_corpus/' + 'search_sent?'"
   ]
  },
  {
   "cell_type": "code",
   "execution_count": 11,
   "id": "51e70152",
   "metadata": {},
   "outputs": [
    {
     "name": "stdout",
     "output_type": "stream",
     "text": [
      "﻿<div id=\"results_info\" class=\"row_section_fixed\">\n",
      "\t<p>Search result:\n",
      "\t3897 occurrences,\n",
      "\t3114 sentences found in approximately\n",
      "\t42 document\n"
     ]
    }
   ],
   "source": [
    "wordform = 'вit'\n",
    "lexeme = ''\n",
    "grammar = ''\n",
    "query = f'n_words=1&random_seed=&wf1={wordform}&lex1={lexeme}&gr1={grammar}&w_id1=&l_id1=&languages=ady&page_size=10&sort=random&distance_strict=on'\n",
    "print(requests.get(base + query).text[:140])"
   ]
  },
  {
   "cell_type": "markdown",
   "id": "2f683d00",
   "metadata": {},
   "source": [
    "### Поиск по грам. информации"
   ]
  },
  {
   "cell_type": "markdown",
   "id": "84f25087",
   "metadata": {},
   "source": [
    "Не работает"
   ]
  },
  {
   "cell_type": "code",
   "execution_count": 12,
   "id": "998db3ad",
   "metadata": {},
   "outputs": [
    {
     "name": "stdout",
     "output_type": "stream",
     "text": [
      "﻿<div id=\"results_info\" class=\"row_section_fixed\">\n",
      "\t<p>Search result:\n",
      "\t0 occurrences,\n",
      "\t0 sentences found in approximately\n",
      "\t0 documents.</p>\n",
      "\n"
     ]
    }
   ],
   "source": [
    "wordform = ''\n",
    "lexeme = ''\n",
    "grammar = 'f'\n",
    "query = f'n_words=1&random_seed=&wf1={wordform}&lex1={lexeme}&gr1={grammar}&w_id1=&l_id1=&languages=ady&page_size=10&sort=random&distance_strict=on'\n",
    "print(requests.get(base + query).text[:140])"
   ]
  },
  {
   "cell_type": "markdown",
   "id": "fc9ecb0b",
   "metadata": {},
   "source": [
    "# Добавим поле"
   ]
  },
  {
   "cell_type": "markdown",
   "id": "b35986d7",
   "metadata": {},
   "source": [
    "В templates есть html-файл \"query_area.html\", и там прописано id для поиска по строчке глосс:"
   ]
  },
  {
   "cell_type": "markdown",
   "id": "bab874d4",
   "metadata": {},
   "source": [
    "```html\n",
    "<label for=\"gloss_index1\" id=\"_label_gloss1\" class=\"search_label\">Gloss</label>\n",
    "```"
   ]
  },
  {
   "cell_type": "markdown",
   "id": "e1f4a517",
   "metadata": {},
   "source": [
    "Пробую следующим образом добавить его в сформированный запрос:"
   ]
  },
  {
   "cell_type": "markdown",
   "id": "beae3520",
   "metadata": {},
   "source": [
    "https://adyghe.web-corpora.net/adyghe_corpus/ <span style=\"color:red\">search_sent?</span> <span style=\"color:blue\">n_words=1</span> & <span style=\"color:green\">random_seed=</span> & <span style=\"color:violet\">wf1=</span> & <span style=\"color:violet\">lex1=</span> & <span style=\"color:violet\">gr1=</span> & <span style=\"color:darkred\"><b>gloss_index1=</b></span> ... <br><br>\n",
    "& w_id1= & l_id1= & languages=ady & page_size=10 & sort=random & distance_strict=on"
   ]
  },
  {
   "cell_type": "markdown",
   "id": "fbc58093",
   "metadata": {},
   "source": [
    "Проверка поиска с пустым полем ```gloss_index1```"
   ]
  },
  {
   "cell_type": "code",
   "execution_count": 13,
   "id": "c6de433f",
   "metadata": {},
   "outputs": [],
   "source": [
    "base = 'http://adyghe.web-corpora.net/adyghe_corpus/' + 'search_sent?'"
   ]
  },
  {
   "cell_type": "code",
   "execution_count": 14,
   "id": "0eae90d9",
   "metadata": {},
   "outputs": [
    {
     "name": "stdout",
     "output_type": "stream",
     "text": [
      "﻿<div id=\"results_info\" class=\"row_section_fixed\">\n",
      "\t<p>Результат поиска: найдена\n",
      "\t1 словоформа,\n",
      "\t1 предложение примерно в\n",
      "\t1 документе.</p>\n",
      "\n"
     ]
    }
   ],
   "source": [
    "wordform = 'ытыгъущтыгъ'\n",
    "lexeme = ''\n",
    "grammar = ''\n",
    "gloss = ''\n",
    "query = f'n_words=1&random_seed=&wf1={wordform}&lex1={lexeme}&gr1={grammar}&gloss_index1={gloss}&w_id1=&l_id1=&languages=ady&page_size=10&sort=random&distance_strict=on'\n",
    "print(requests.get(base + query).text[:140])"
   ]
  },
  {
   "cell_type": "markdown",
   "id": "2ba36e64",
   "metadata": {},
   "source": [
    "Проверка поиска по строчке глосс"
   ]
  },
  {
   "cell_type": "code",
   "execution_count": 15,
   "id": "f0640142",
   "metadata": {},
   "outputs": [
    {
     "name": "stdout",
     "output_type": "stream",
     "text": [
      "﻿<div id=\"results_info\" class=\"row_section_fixed\">\n",
      "\t<p>Результат поиска: найдено\n",
      "\t1791575 словоформ,\n",
      "\t720208 предложений примерно в\n",
      "\t4382 документах.<\n"
     ]
    }
   ],
   "source": [
    "wordform = ''\n",
    "lexeme = ''\n",
    "grammar = ''\n",
    "gloss = 'OBL'\n",
    "query = f'n_words=1&random_seed=&wf1={wordform}&lex1={lexeme}&gr1={grammar}&gloss_index1={gloss}&w_id1=&l_id1=&languages=ady&page_size=10&sort=random&distance_strict=on'\n",
    "print(requests.get(base + query).text[:150])"
   ]
  },
  {
   "cell_type": "markdown",
   "id": "ea0087d0",
   "metadata": {},
   "source": [
    "Удача!"
   ]
  },
  {
   "cell_type": "code",
   "execution_count": 16,
   "id": "7ba637b7",
   "metadata": {},
   "outputs": [
    {
     "name": "stdout",
     "output_type": "stream",
     "text": [
      "﻿<div id=\"results_info\" class=\"row_section_fixed\">\n",
      "\t<p>Результат поиска: найдено\n",
      "\t1036240 словоформ,\n",
      "\t577636 предложений примерно в\n",
      "\t4333 документах.<\n"
     ]
    }
   ],
   "source": [
    "wordform = ''\n",
    "lexeme = ''\n",
    "grammar = ''\n",
    "gloss = 'STEM-OBL'\n",
    "query = f'n_words=1&random_seed=&wf1={wordform}&lex1={lexeme}&gr1={grammar}&gloss_index1={gloss}&w_id1=&l_id1=&languages=ady&page_size=10&sort=random&distance_strict=on'\n",
    "print(requests.get(base + query).text[:150])"
   ]
  },
  {
   "cell_type": "code",
   "execution_count": null,
   "id": "cee9338f",
   "metadata": {},
   "outputs": [],
   "source": []
  }
 ],
 "metadata": {
  "kernelspec": {
   "display_name": "Python 3 (ipykernel)",
   "language": "python",
   "name": "python3"
  },
  "language_info": {
   "codemirror_mode": {
    "name": "ipython",
    "version": 3
   },
   "file_extension": ".py",
   "mimetype": "text/x-python",
   "name": "python",
   "nbconvert_exporter": "python",
   "pygments_lexer": "ipython3",
   "version": "3.9.12"
  }
 },
 "nbformat": 4,
 "nbformat_minor": 5
}
